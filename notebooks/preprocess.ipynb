{
 "cells": [
  {
   "cell_type": "code",
   "execution_count": 3,
   "metadata": {},
   "outputs": [],
   "source": [
    "import nibabel as nib\n",
    "import numpy as np\n",
    "from cryptography.hazmat.primitives.ciphers import Cipher, algorithms, modes\n",
    "from cryptography.hazmat.primitives.kdf.pbkdf2 import PBKDF2HMAC\n",
    "from cryptography.hazmat.backends import default_backend\n",
    "from cryptography.hazmat.primitives import hashes\n",
    "from cryptography.hazmat.primitives.padding import PKCS7\n",
    "import os"
   ]
  },
  {
   "cell_type": "code",
   "execution_count": 4,
   "metadata": {},
   "outputs": [],
   "source": [
    "CT_SCANS = \"../rawdata/ct_scans\"\n",
    "INFECTION_MASKS = \"../rawdata/infection_mask\"\n",
    "LUNGANDINFECTION_MASKS = \"../rawdata/lung_and_infection_mask\"\n",
    "LUNG_MASKS = \"../rawdata/lung_mask\""
   ]
  },
  {
   "cell_type": "code",
   "execution_count": 5,
   "metadata": {},
   "outputs": [],
   "source": [
    "ct_nii = nib.load(f\"{CT_SCANS}/coronacases_org_001.nii\")\n",
    "image_data = ct_nii.get_fdata()"
   ]
  },
  {
   "cell_type": "code",
   "execution_count": 6,
   "metadata": {},
   "outputs": [],
   "source": [
    "def encrypt_nifti(file_path, password, output_path):\n",
    "    # Read the NIfTI image\n",
    "    nifti_img = nib.load(file_path)\n",
    "    data = nifti_img.get_fdata()\n",
    "    \n",
    "    # Serialize the data to bytes\n",
    "    data_bytes = data.tobytes()\n",
    "\n",
    "    # Derive a key from the password\n",
    "    salt = os.urandom(16)  # Generate a random salt\n",
    "    kdf = PBKDF2HMAC(\n",
    "        algorithm=hashes.SHA256(),\n",
    "        length=32,\n",
    "        salt=salt,\n",
    "        iterations=100000,\n",
    "        backend=default_backend()\n",
    "    )\n",
    "    key = kdf.derive(password.encode())  # Derive the key\n",
    "\n",
    "    # Encrypt the data\n",
    "    iv = os.urandom(16)  # Initialization vector\n",
    "    cipher = Cipher(algorithms.AES(key), modes.CBC(iv), backend=default_backend())\n",
    "    encryptor = cipher.encryptor()\n",
    "    \n",
    "    # Padding for block cipher\n",
    "    padder = PKCS7(algorithms.AES.block_size).padder()\n",
    "    padded_data = padder.update(data_bytes) + padder.finalize()\n",
    "\n",
    "    encrypted_data = encryptor.update(padded_data) + encryptor.finalize()\n",
    "\n",
    "    # Save the encrypted data and metadata\n",
    "    with open(output_path, 'wb') as f:\n",
    "        f.write(salt)  # Write salt for key derivation\n",
    "        f.write(iv)    # Write IV for decryption\n",
    "        f.write(encrypted_data)  # Write encrypted data\n",
    "\n",
    "    print(f\"Encrypted NIfTI image saved to {output_path}\")"
   ]
  },
  {
   "cell_type": "code",
   "execution_count": 7,
   "metadata": {},
   "outputs": [
    {
     "name": "stdout",
     "output_type": "stream",
     "text": [
      "Encrypted NIfTI image saved to encrypted.nii\n"
     ]
    }
   ],
   "source": [
    "encrypt_nifti(f\"{CT_SCANS}/coronacases_org_001.nii\", \"258456C@p\", \"encrypted.nii\")"
   ]
  },
  {
   "cell_type": "code",
   "execution_count": null,
   "metadata": {},
   "outputs": [],
   "source": [
    "def decrypt_nifti(encrypted_file_path, password, output_path):\n",
    "    # Read the encrypted file\n",
    "    with open(encrypted_file_path, 'rb') as f:\n",
    "        salt = f.read(16)  # Read salt\n",
    "        iv = f.read(16)    # Read IV\n",
    "        encrypted_data = f.read()  # Read encrypted data\n",
    "\n",
    "    # Derive the key from the password\n",
    "    kdf = PBKDF2HMAC(\n",
    "        algorithm=hashes.SHA256(),\n",
    "        length=32,\n",
    "        salt=salt,\n",
    "        iterations=100000,\n",
    "        backend=default_backend()\n",
    "    )\n",
    "    key = kdf.derive(password.encode())\n",
    "\n",
    "    # Decrypt the data\n",
    "    cipher = Cipher(algorithms.AES(key), modes.CBC(iv), backend=default_backend())\n",
    "    decryptor = cipher.decryptor()\n",
    "    padded_data = decryptor.update(encrypted_data) + decryptor.finalize()\n",
    "\n",
    "    # Remove padding\n",
    "    unpadder = PKCS7(algorithms.AES.block_size).unpadder()\n",
    "    data_bytes = unpadder.update(padded_data) + unpadder.finalize()\n",
    "\n",
    "    # Deserialize data\n",
    "    nifti_img = nib.load(f\"{CT_SCANS}/coronacases_org_001.nii\")\n",
    "    original_shape = nifti_img.shape\n",
    "    data = np.frombuffer(data_bytes, dtype=np.float64).reshape(original_shape)\n",
    "\n",
    "    # Save the decrypted NIfTI file\n",
    "    decrypted_nifti = nib.Nifti1Image(data, nifti_img.affine, nifti_img.header)\n",
    "    nib.save(decrypted_nifti, output_path)\n",
    "\n",
    "    print(f\"Decrypted NIfTI image saved to {output_path}\")"
   ]
  },
  {
   "cell_type": "code",
   "execution_count": 10,
   "metadata": {},
   "outputs": [
    {
     "ename": "FileNotFoundError",
     "evalue": "No such file or no access: '{CT_SCANS}/coronacases_org_001.nii'",
     "output_type": "error",
     "traceback": [
      "\u001b[1;31m---------------------------------------------------------------------------\u001b[0m",
      "\u001b[1;31mFileNotFoundError\u001b[0m                         Traceback (most recent call last)",
      "File \u001b[1;32md:\\Projects\\ETL-MI\\.venv\\Lib\\site-packages\\nibabel\\loadsave.py:101\u001b[0m, in \u001b[0;36mload\u001b[1;34m(filename, **kwargs)\u001b[0m\n\u001b[0;32m    100\u001b[0m \u001b[38;5;28;01mtry\u001b[39;00m:\n\u001b[1;32m--> 101\u001b[0m     stat_result \u001b[38;5;241m=\u001b[39m \u001b[43mos\u001b[49m\u001b[38;5;241;43m.\u001b[39;49m\u001b[43mstat\u001b[49m\u001b[43m(\u001b[49m\u001b[43mfilename\u001b[49m\u001b[43m)\u001b[49m\n\u001b[0;32m    102\u001b[0m \u001b[38;5;28;01mexcept\u001b[39;00m \u001b[38;5;167;01mOSError\u001b[39;00m:\n",
      "\u001b[1;31mFileNotFoundError\u001b[0m: [WinError 3] The system cannot find the path specified: '{CT_SCANS}/coronacases_org_001.nii'",
      "\nDuring handling of the above exception, another exception occurred:\n",
      "\u001b[1;31mFileNotFoundError\u001b[0m                         Traceback (most recent call last)",
      "Cell \u001b[1;32mIn[10], line 1\u001b[0m\n\u001b[1;32m----> 1\u001b[0m \u001b[43mdecrypt_nifti\u001b[49m\u001b[43m(\u001b[49m\u001b[38;5;124;43m\"\u001b[39;49m\u001b[38;5;124;43mencrypted.nii\u001b[39;49m\u001b[38;5;124;43m\"\u001b[39;49m\u001b[43m,\u001b[49m\u001b[43m \u001b[49m\u001b[38;5;124;43m\"\u001b[39;49m\u001b[38;5;124;43m258456C@p\u001b[39;49m\u001b[38;5;124;43m\"\u001b[39;49m\u001b[43m,\u001b[49m\u001b[43m \u001b[49m\u001b[38;5;124;43m\"\u001b[39;49m\u001b[38;5;124;43mdecrypted.nii\u001b[39;49m\u001b[38;5;124;43m\"\u001b[39;49m\u001b[43m)\u001b[49m\n",
      "Cell \u001b[1;32mIn[9], line 28\u001b[0m, in \u001b[0;36mdecrypt_nifti\u001b[1;34m(encrypted_file_path, password, output_path)\u001b[0m\n\u001b[0;32m     25\u001b[0m data_bytes \u001b[38;5;241m=\u001b[39m unpadder\u001b[38;5;241m.\u001b[39mupdate(padded_data) \u001b[38;5;241m+\u001b[39m unpadder\u001b[38;5;241m.\u001b[39mfinalize()\n\u001b[0;32m     27\u001b[0m \u001b[38;5;66;03m# Deserialize data\u001b[39;00m\n\u001b[1;32m---> 28\u001b[0m nifti_img \u001b[38;5;241m=\u001b[39m \u001b[43mnib\u001b[49m\u001b[38;5;241;43m.\u001b[39;49m\u001b[43mload\u001b[49m\u001b[43m(\u001b[49m\u001b[38;5;124;43m\"\u001b[39;49m\u001b[38;5;132;43;01m{CT_SCANS}\u001b[39;49;00m\u001b[38;5;124;43m/coronacases_org_001.nii\u001b[39;49m\u001b[38;5;124;43m\"\u001b[39;49m\u001b[43m)\u001b[49m\n\u001b[0;32m     29\u001b[0m original_shape \u001b[38;5;241m=\u001b[39m nifti_img\u001b[38;5;241m.\u001b[39mshape\n\u001b[0;32m     30\u001b[0m data \u001b[38;5;241m=\u001b[39m np\u001b[38;5;241m.\u001b[39mfrombuffer(data_bytes, dtype\u001b[38;5;241m=\u001b[39mnp\u001b[38;5;241m.\u001b[39mfloat64)\u001b[38;5;241m.\u001b[39mreshape(original_shape)\n",
      "File \u001b[1;32md:\\Projects\\ETL-MI\\.venv\\Lib\\site-packages\\nibabel\\loadsave.py:103\u001b[0m, in \u001b[0;36mload\u001b[1;34m(filename, **kwargs)\u001b[0m\n\u001b[0;32m    101\u001b[0m     stat_result \u001b[38;5;241m=\u001b[39m os\u001b[38;5;241m.\u001b[39mstat(filename)\n\u001b[0;32m    102\u001b[0m \u001b[38;5;28;01mexcept\u001b[39;00m \u001b[38;5;167;01mOSError\u001b[39;00m:\n\u001b[1;32m--> 103\u001b[0m     \u001b[38;5;28;01mraise\u001b[39;00m \u001b[38;5;167;01mFileNotFoundError\u001b[39;00m(\u001b[38;5;124mf\u001b[39m\u001b[38;5;124m\"\u001b[39m\u001b[38;5;124mNo such file or no access: \u001b[39m\u001b[38;5;124m'\u001b[39m\u001b[38;5;132;01m{\u001b[39;00mfilename\u001b[38;5;132;01m}\u001b[39;00m\u001b[38;5;124m'\u001b[39m\u001b[38;5;124m\"\u001b[39m)\n\u001b[0;32m    104\u001b[0m \u001b[38;5;28;01mif\u001b[39;00m stat_result\u001b[38;5;241m.\u001b[39mst_size \u001b[38;5;241m<\u001b[39m\u001b[38;5;241m=\u001b[39m \u001b[38;5;241m0\u001b[39m:\n\u001b[0;32m    105\u001b[0m     \u001b[38;5;28;01mraise\u001b[39;00m ImageFileError(\u001b[38;5;124mf\u001b[39m\u001b[38;5;124m\"\u001b[39m\u001b[38;5;124mEmpty file: \u001b[39m\u001b[38;5;124m'\u001b[39m\u001b[38;5;132;01m{\u001b[39;00mfilename\u001b[38;5;132;01m}\u001b[39;00m\u001b[38;5;124m'\u001b[39m\u001b[38;5;124m\"\u001b[39m)\n",
      "\u001b[1;31mFileNotFoundError\u001b[0m: No such file or no access: '{CT_SCANS}/coronacases_org_001.nii'"
     ]
    }
   ],
   "source": [
    "decrypt_nifti(\"encrypted.nii\", \"258456C@p\", \"decrypted.nii\")"
   ]
  }
 ],
 "metadata": {
  "kernelspec": {
   "display_name": ".venv",
   "language": "python",
   "name": "python3"
  },
  "language_info": {
   "codemirror_mode": {
    "name": "ipython",
    "version": 3
   },
   "file_extension": ".py",
   "mimetype": "text/x-python",
   "name": "python",
   "nbconvert_exporter": "python",
   "pygments_lexer": "ipython3",
   "version": "3.12.0"
  }
 },
 "nbformat": 4,
 "nbformat_minor": 2
}
